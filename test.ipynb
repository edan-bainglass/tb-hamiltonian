{
 "cells": [
  {
   "cell_type": "code",
   "execution_count": 2,
   "metadata": {},
   "outputs": [],
   "source": [
    "import sys\n",
    "\n",
    "sys.tracebacklimit = None"
   ]
  },
  {
   "cell_type": "markdown",
   "metadata": {},
   "source": [
    "# Parameters & constants"
   ]
  },
  {
   "cell_type": "code",
   "execution_count": 1,
   "metadata": {},
   "outputs": [],
   "source": [
    "from pathlib import Path\n",
    "\n",
    "lx = 5  # length in x direction (Å)\n",
    "ly = 5  # length in y direction (Å)\n",
    "lz = 10 # length in z direction (Å)\n",
    "nn = 1  # number of nearest neighbors | don't use 0!\n",
    "\n",
    "basepath = Path(f\"output/example/len_{lx}x{ly}/nn_{nn}\")\n",
    "basepath.mkdir(parents=True, exist_ok=True)"
   ]
  },
  {
   "cell_type": "markdown",
   "metadata": {},
   "source": [
    "# Define structure"
   ]
  },
  {
   "cell_type": "code",
   "execution_count": 2,
   "metadata": {},
   "outputs": [],
   "source": [
    "from tb_hamiltonian.utils import get_structure\n",
    "\n",
    "structure = get_structure(\n",
    "    unit_cell_filepath=Path(\"output/example/POSCAR\"),  # local unit cell file\n",
    "    lengths=(lx, ly, lz),\n",
    ")\n",
    "\n",
    "structure.info[\"label\"] = \"BLG\"  # will show up at top of Hamiltonian output file\n",
    "\n",
    "structure.write(basepath / \"POSCAR\", format=\"vasp\")"
   ]
  },
  {
   "cell_type": "markdown",
   "metadata": {},
   "source": [
    "# Compute H"
   ]
  },
  {
   "cell_type": "code",
   "execution_count": 3,
   "metadata": {},
   "outputs": [],
   "source": [
    "from tb_hamiltonian import TightBindingHamiltonian\n",
    "\n",
    "H = TightBindingHamiltonian(\n",
    "    structure=structure,\n",
    "    nearest_neighbor=nn,\n",
    "    distances=(0.0, 1.425, 2.468, 2.850),\n",
    "    hopping_parameters=(0.0, -2.7, 0.0, -0.27),\n",
    "    interlayer_coupling=0.33,\n",
    ")\n",
    "\n",
    "H.build()"
   ]
  },
  {
   "cell_type": "markdown",
   "metadata": {},
   "source": [
    "# Apply onsite term"
   ]
  },
  {
   "cell_type": "code",
   "execution_count": 4,
   "metadata": {},
   "outputs": [],
   "source": [
    "from tb_hamiltonian.potentials import PotentialFactory\n",
    "\n",
    "potential = PotentialFactory(\"null\")\n",
    "potential.amplitude = 1.0\n",
    "potential.width = 0.0\n",
    "\n",
    "H.update_onsite_terms(\n",
    "    onsite_term=0.0,\n",
    "    potential=potential,\n",
    "    alpha=(1.0, 0.5),\n",
    ")\n",
    "\n",
    "path = basepath / f\"{potential.name}_a_{potential.amplitude}_w_{potential.width}\"\n",
    "path.mkdir(parents=True, exist_ok=True)"
   ]
  },
  {
   "cell_type": "markdown",
   "metadata": {},
   "source": [
    "# Sanity checks\n"
   ]
  },
  {
   "cell_type": "code",
   "execution_count": 70,
   "metadata": {},
   "outputs": [],
   "source": [
    "# H.onsite_count()"
   ]
  },
  {
   "cell_type": "code",
   "execution_count": 71,
   "metadata": {},
   "outputs": [],
   "source": [
    "# H.interaction_counts()"
   ]
  },
  {
   "cell_type": "markdown",
   "metadata": {},
   "source": [
    "# Write H to file"
   ]
  },
  {
   "cell_type": "code",
   "execution_count": 72,
   "metadata": {},
   "outputs": [],
   "source": [
    "H.write_to_file(path)"
   ]
  },
  {
   "cell_type": "markdown",
   "metadata": {},
   "source": [
    "# Plotting"
   ]
  },
  {
   "cell_type": "code",
   "execution_count": 73,
   "metadata": {},
   "outputs": [],
   "source": [
    "# H.plot_matrix()"
   ]
  },
  {
   "cell_type": "code",
   "execution_count": 74,
   "metadata": {},
   "outputs": [],
   "source": [
    "# H.plot_grid()"
   ]
  }
 ],
 "metadata": {
  "kernelspec": {
   "display_name": "graphene",
   "language": "python",
   "name": "python3"
  },
  "language_info": {
   "codemirror_mode": {
    "name": "ipython",
    "version": 3
   },
   "file_extension": ".py",
   "mimetype": "text/x-python",
   "name": "python",
   "nbconvert_exporter": "python",
   "pygments_lexer": "ipython3",
   "version": "3.10.14"
  }
 },
 "nbformat": 4,
 "nbformat_minor": 2
}
