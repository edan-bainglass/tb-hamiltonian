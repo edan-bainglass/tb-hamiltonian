{
 "cells": [
  {
   "cell_type": "code",
   "execution_count": null,
   "metadata": {},
   "outputs": [],
   "source": [
    "import sys\n",
    "\n",
    "sys.tracebacklimit = None"
   ]
  },
  {
   "cell_type": "markdown",
   "metadata": {},
   "source": [
    "# Parameters & constants"
   ]
  },
  {
   "cell_type": "code",
   "execution_count": null,
   "metadata": {},
   "outputs": [],
   "source": [
    "from pathlib import Path\n",
    "\n",
    "import numpy as np\n",
    "\n",
    "debug = False\n",
    "use_mpi = True\n",
    "\n",
    "nn = 1  # number of nearest neighbors | don't use 0!\n",
    "\n",
    "workdir = Path(\"examples/BLG/AB/rectangular\")\n",
    "\n",
    "# lengths\n",
    "lx = 50  # length in x direction (Å)\n",
    "ly = lx / np.sqrt(3)  # length in y direction (Å) keeping the b/a ratio\n",
    "lz = 10  # length in z direction (Å)\n",
    "basepath = workdir / f\"len_{lx}x{int(ly)}/nn_{nn}\"\n",
    "\n",
    "# or, repetitions\n",
    "nx = 1  # number of repetitions in x direction\n",
    "ny = 1  # number of repetitions in y direction\n",
    "nz = 1  # number of repetitions in z direction\n",
    "basepath = workdir / f\"rep_{nx}x{ny}/nn_{nn}\"\n",
    "\n",
    "basepath.mkdir(parents=True, exist_ok=True)"
   ]
  },
  {
   "cell_type": "markdown",
   "metadata": {},
   "source": [
    "# Define structure"
   ]
  },
  {
   "cell_type": "code",
   "execution_count": null,
   "metadata": {},
   "outputs": [],
   "source": [
    "from tb_hamiltonian.utils import get_structure\n",
    "\n",
    "structure = get_structure(\n",
    "    unit_cell_filepath=workdir / \"POSCAR\",  # local unit cell file\n",
    "    # lengths=(lx, ly, lz),\n",
    "    repetitions=(nx, ny, nz),\n",
    ")\n",
    "\n",
    "structure.info[\"label\"] = \"BLG\"  # will show up at top of Hamiltonian output file\n",
    "\n",
    "structure.write(basepath.parent / \"POSCAR\", format=\"vasp\")"
   ]
  },
  {
   "cell_type": "markdown",
   "metadata": {},
   "source": [
    "# Compute H"
   ]
  },
  {
   "cell_type": "code",
   "execution_count": null,
   "metadata": {},
   "outputs": [],
   "source": [
    "from tb_hamiltonian import TBHamiltonian\n",
    "\n",
    "H = TBHamiltonian(\n",
    "    structure=structure,\n",
    "    nearest_neighbor=nn,\n",
    "    distances=(0.0, 1.425, 2.468, 2.850),\n",
    "    hopping_parameters=(0.0, -2.7, 0.0, -0.27),\n",
    "    interlayer_coupling=0.33,\n",
    "    debug=debug,\n",
    ")\n",
    "\n",
    "H.build()"
   ]
  },
  {
   "cell_type": "markdown",
   "metadata": {},
   "source": [
    "# Apply onsite term"
   ]
  },
  {
   "cell_type": "code",
   "execution_count": null,
   "metadata": {},
   "outputs": [],
   "source": [
    "from tb_hamiltonian.potentials import PotentialFactory\n",
    "\n",
    "potential = PotentialFactory(\"null\")\n",
    "potential.params = {\n",
    "    \"amplitude\": 1.0,\n",
    "    \"width\": 0.5,\n",
    "}\n",
    "\n",
    "H.update_onsite_terms(\n",
    "    onsite_term=0.0,\n",
    "    potential=potential,\n",
    "    alpha=(1.0, 0.5),\n",
    ")\n",
    "\n",
    "path = (\n",
    "    basepath\n",
    "    / f\"{potential.name}\"\n",
    "    # / f\"amplitude_{potential.params['amplitude']}\"\n",
    "    # / f\"width_{potential.params['width']}\"\n",
    ")\n",
    "path.mkdir(parents=True, exist_ok=True)"
   ]
  },
  {
   "cell_type": "markdown",
   "metadata": {},
   "source": [
    "# Sanity checks\n"
   ]
  },
  {
   "cell_type": "code",
   "execution_count": null,
   "metadata": {},
   "outputs": [],
   "source": [
    "# H.onsite_count()"
   ]
  },
  {
   "cell_type": "code",
   "execution_count": null,
   "metadata": {},
   "outputs": [],
   "source": [
    "# H.interaction_counts()"
   ]
  },
  {
   "cell_type": "markdown",
   "metadata": {},
   "source": [
    "# Write H to file"
   ]
  },
  {
   "cell_type": "code",
   "execution_count": null,
   "metadata": {},
   "outputs": [],
   "source": [
    "# H.write_to_file(path, use_mpi=use_mpi)"
   ]
  },
  {
   "cell_type": "markdown",
   "metadata": {},
   "source": [
    "# Plotting"
   ]
  },
  {
   "cell_type": "code",
   "execution_count": null,
   "metadata": {},
   "outputs": [],
   "source": [
    "# H.plot_matrix()"
   ]
  },
  {
   "cell_type": "code",
   "execution_count": null,
   "metadata": {},
   "outputs": [],
   "source": [
    "# H.plot_grid()"
   ]
  },
  {
   "cell_type": "code",
   "execution_count": null,
   "metadata": {},
   "outputs": [],
   "source": [
    "# H.plot_potential()"
   ]
  },
  {
   "cell_type": "code",
   "execution_count": null,
   "metadata": {},
   "outputs": [],
   "source": [
    "# H.plot_bands(\n",
    "#     high_sym_points={\n",
    "#         \"Γ\": (0.00000, 0.00000, 0.00000),\n",
    "#         \"P\": (0.00000, 0.33333, 0.00000),\n",
    "#         \"X\": (0.00000, 0.50000, 0.00000),\n",
    "#         \"W\": (0.50000, 0.50000, 0.00000),\n",
    "#         \"Y\": (0.50000, 0.00000, 0.00000),\n",
    "#     },\n",
    "#     k_path=\"Γ P X W Y Γ W\",\n",
    "#     points_per_segment=100,\n",
    "#     use_sparse_solver=False,\n",
    "#     sparse_solver_params={\"k\": 3, \"sigma\": 1e-8},\n",
    "#     use_mpi=use_mpi,\n",
    "#     workdir=path,\n",
    "# )"
   ]
  }
 ],
 "metadata": {
  "kernelspec": {
   "display_name": "graphene",
   "language": "python",
   "name": "python3"
  },
  "language_info": {
   "codemirror_mode": {
    "name": "ipython",
    "version": 3
   },
   "file_extension": ".py",
   "mimetype": "text/x-python",
   "name": "python",
   "nbconvert_exporter": "python",
   "pygments_lexer": "ipython3",
   "version": "3.10.14"
  }
 },
 "nbformat": 4,
 "nbformat_minor": 2
}
